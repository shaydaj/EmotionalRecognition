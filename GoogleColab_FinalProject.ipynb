{
  "nbformat": 4,
  "nbformat_minor": 0,
  "metadata": {
    "colab": {
      "name": "GoogleColab_FinalProject.ipynb",
      "provenance": [],
      "collapsed_sections": []
    },
    "kernelspec": {
      "name": "python3",
      "display_name": "Python 3"
    },
    "language_info": {
      "name": "python"
    }
  },
  "cells": [
    {
      "cell_type": "code",
      "execution_count": null,
      "metadata": {
        "id": "oml3XVa0tWwi"
      },
      "outputs": [],
      "source": [
        "import tensorflow as tf \n",
        "from tensorflow import keras \n",
        "from keras.preprocessing.image import ImageDataGenerator\n",
        "import numpy as np \n",
        "import matplotlib.pyplot as plt\n",
        "import tensorflow_datasets as tfds\n",
        "keras = tf.keras\n",
        "tfds.disable_progress_bar()"
      ]
    },
    {
      "cell_type": "code",
      "source": [
        "from google.colab import drive\n",
        "drive.mount('/content/drive')"
      ],
      "metadata": {
        "id": "r4gv8bF2tYhE",
        "colab": {
          "base_uri": "https://localhost:8080/"
        },
        "outputId": "52510511-d694-4adb-df05-ef2dc539b4f4"
      },
      "execution_count": null,
      "outputs": [
        {
          "output_type": "stream",
          "name": "stdout",
          "text": [
            "Mounted at /content/drive\n"
          ]
        }
      ]
    },
    {
      "cell_type": "code",
      "source": [
        "train_datagen = ImageDataGenerator(rescale = 1./255, \n",
        "                                   rotation_range=40,\n",
        "                                   width_shift_range=0.2,\n",
        "                                   height_shift_range=0.2,\n",
        "                                   shear_range = 0.2, \n",
        "                                   zoom_range = 0.2, \n",
        "                                   horizontal_flip = True, \n",
        "                                   featurewise_center=True,\n",
        "                                   featurewise_std_normalization=True,\n",
        "                                   fill_mode='nearest')\n",
        "\n",
        "training_images = train_datagen.flow_from_directory('../content/drive/MyDrive/folder /train', \n",
        "                                                 target_size = (48,48), \n",
        "                                                 batch_size = 64, \n",
        "                                                 color_mode = 'grayscale' , \n",
        "                                                 class_mode = 'categorical')"
      ],
      "metadata": {
        "id": "njzGo6jNtaWU",
        "colab": {
          "base_uri": "https://localhost:8080/"
        },
        "outputId": "465bfe94-74f8-4bc7-af10-d142e6ca1e0d"
      },
      "execution_count": null,
      "outputs": [
        {
          "output_type": "stream",
          "name": "stdout",
          "text": [
            "Found 28709 images belonging to 7 classes.\n"
          ]
        }
      ]
    },
    {
      "cell_type": "code",
      "source": [
        "test_datagen = ImageDataGenerator(rescale = 1./255,\n",
        "                                  rotation_range=40,\n",
        "                                  width_shift_range=0.2,\n",
        "                                  height_shift_range=0.2,\n",
        "                                  shear_range = 0.2, \n",
        "                                  zoom_range = 0.2, \n",
        "                                  horizontal_flip = True, \n",
        "                                  featurewise_center=True,\n",
        "                                  featurewise_std_normalization=True,\n",
        "                                  fill_mode='nearest')\n",
        "\n",
        "testing_images = train_datagen.flow_from_directory('../content/drive/MyDrive/folder /test', \n",
        "                                             target_size = (48,48), \n",
        "                                             batch_size = 64, \n",
        "                                             color_mode = 'grayscale', \n",
        "                                             class_mode = 'categorical')"
      ],
      "metadata": {
        "id": "2HizfioItrxB",
        "colab": {
          "base_uri": "https://localhost:8080/"
        },
        "outputId": "0e3b0773-81e1-44f3-cf56-5aeb5b38b3a8"
      },
      "execution_count": null,
      "outputs": [
        {
          "output_type": "stream",
          "name": "stdout",
          "text": [
            "Found 7178 images belonging to 7 classes.\n"
          ]
        }
      ]
    },
    {
      "cell_type": "code",
      "source": [
        "model = tf.keras.models.Sequential()"
      ],
      "metadata": {
        "id": "GKPmNBvWtvkn"
      },
      "execution_count": null,
      "outputs": []
    },
    {
      "cell_type": "code",
      "source": [
        "model.add(tf.keras.layers.Conv2D(filters = 32, kernel_size = 3, activation = 'relu',input_shape = [48,48,1]))"
      ],
      "metadata": {
        "id": "cSTIMVnnzoih"
      },
      "execution_count": null,
      "outputs": []
    },
    {
      "cell_type": "code",
      "source": [
        "model.add(tf.keras.layers.Conv2D(filters = 32, kernel_size = 3, activation = 'relu',input_shape = [48,48,1]))\n",
        "\n",
        "model.add(tf.keras.layers.BatchNormalization())\n",
        "model.add(tf.keras.layers.MaxPool2D(pool_size = 2, strides = 2))\n",
        "model.add(tf.keras.layers.Dropout(0.25))"
      ],
      "metadata": {
        "id": "H-4MURtQt7hO"
      },
      "execution_count": null,
      "outputs": []
    },
    {
      "cell_type": "code",
      "source": [
        "model.summary()"
      ],
      "metadata": {
        "id": "IE_E6bgboUuF",
        "colab": {
          "base_uri": "https://localhost:8080/"
        },
        "outputId": "b92c3e18-2d68-459f-b6d4-ab7066bea99d"
      },
      "execution_count": null,
      "outputs": [
        {
          "output_type": "stream",
          "name": "stdout",
          "text": [
            "Model: \"sequential\"\n",
            "_________________________________________________________________\n",
            " Layer (type)                Output Shape              Param #   \n",
            "=================================================================\n",
            " conv2d (Conv2D)             (None, 46, 46, 32)        320       \n",
            "                                                                 \n",
            " conv2d_1 (Conv2D)           (None, 44, 44, 32)        9248      \n",
            "                                                                 \n",
            " batch_normalization (BatchN  (None, 44, 44, 32)       128       \n",
            " ormalization)                                                   \n",
            "                                                                 \n",
            " max_pooling2d (MaxPooling2D  (None, 22, 22, 32)       0         \n",
            " )                                                               \n",
            "                                                                 \n",
            " dropout (Dropout)           (None, 22, 22, 32)        0         \n",
            "                                                                 \n",
            "=================================================================\n",
            "Total params: 9,696\n",
            "Trainable params: 9,632\n",
            "Non-trainable params: 64\n",
            "_________________________________________________________________\n"
          ]
        }
      ]
    },
    {
      "cell_type": "code",
      "source": [
        "model.add(tf.keras.layers.Conv2D(filters = 64, kernel_size = 3, activation = 'relu',input_shape = [48,48,1]))\n",
        "model.add(tf.keras.layers.BatchNormalization())\n",
        "model.add(tf.keras.layers.MaxPool2D(pool_size = 2, strides = 2))\n",
        "model.add(tf.keras.layers.Dropout(0.25))"
      ],
      "metadata": {
        "id": "AFsV_9pTt_S0"
      },
      "execution_count": null,
      "outputs": []
    },
    {
      "cell_type": "code",
      "source": [
        "model.summary()"
      ],
      "metadata": {
        "id": "nL0ErMUhoWNL",
        "colab": {
          "base_uri": "https://localhost:8080/"
        },
        "outputId": "c0db3a72-67b2-4f17-8458-6cf31115d9c4"
      },
      "execution_count": null,
      "outputs": [
        {
          "output_type": "stream",
          "name": "stdout",
          "text": [
            "Model: \"sequential\"\n",
            "_________________________________________________________________\n",
            " Layer (type)                Output Shape              Param #   \n",
            "=================================================================\n",
            " conv2d (Conv2D)             (None, 46, 46, 32)        320       \n",
            "                                                                 \n",
            " conv2d_1 (Conv2D)           (None, 44, 44, 32)        9248      \n",
            "                                                                 \n",
            " batch_normalization (BatchN  (None, 44, 44, 32)       128       \n",
            " ormalization)                                                   \n",
            "                                                                 \n",
            " max_pooling2d (MaxPooling2D  (None, 22, 22, 32)       0         \n",
            " )                                                               \n",
            "                                                                 \n",
            " dropout (Dropout)           (None, 22, 22, 32)        0         \n",
            "                                                                 \n",
            " conv2d_2 (Conv2D)           (None, 20, 20, 64)        18496     \n",
            "                                                                 \n",
            " batch_normalization_1 (Batc  (None, 20, 20, 64)       256       \n",
            " hNormalization)                                                 \n",
            "                                                                 \n",
            " max_pooling2d_1 (MaxPooling  (None, 10, 10, 64)       0         \n",
            " 2D)                                                             \n",
            "                                                                 \n",
            " dropout_1 (Dropout)         (None, 10, 10, 64)        0         \n",
            "                                                                 \n",
            "=================================================================\n",
            "Total params: 28,448\n",
            "Trainable params: 28,256\n",
            "Non-trainable params: 192\n",
            "_________________________________________________________________\n"
          ]
        }
      ]
    },
    {
      "cell_type": "code",
      "source": [
        "model.add(tf.keras.layers.Conv2D(filters = 128, kernel_size = 3, activation = 'relu', input_shape = [48,48,1]))\n",
        "model.add(tf.keras.layers.BatchNormalization())\n",
        "model.add(tf.keras.layers.MaxPool2D(pool_size = 2, strides = 2))\n",
        "model.add(tf.keras.layers.Dropout(0.25))"
      ],
      "metadata": {
        "id": "E_3WA_4KuA-2"
      },
      "execution_count": null,
      "outputs": []
    },
    {
      "cell_type": "code",
      "source": [
        "model.summary()"
      ],
      "metadata": {
        "id": "nkCF9cyMoX5X",
        "colab": {
          "base_uri": "https://localhost:8080/"
        },
        "outputId": "53463155-67c1-4b3f-8fd7-3898b557ef02"
      },
      "execution_count": null,
      "outputs": [
        {
          "output_type": "stream",
          "name": "stdout",
          "text": [
            "Model: \"sequential\"\n",
            "_________________________________________________________________\n",
            " Layer (type)                Output Shape              Param #   \n",
            "=================================================================\n",
            " conv2d (Conv2D)             (None, 46, 46, 32)        320       \n",
            "                                                                 \n",
            " conv2d_1 (Conv2D)           (None, 44, 44, 32)        9248      \n",
            "                                                                 \n",
            " batch_normalization (BatchN  (None, 44, 44, 32)       128       \n",
            " ormalization)                                                   \n",
            "                                                                 \n",
            " max_pooling2d (MaxPooling2D  (None, 22, 22, 32)       0         \n",
            " )                                                               \n",
            "                                                                 \n",
            " dropout (Dropout)           (None, 22, 22, 32)        0         \n",
            "                                                                 \n",
            " conv2d_2 (Conv2D)           (None, 20, 20, 64)        18496     \n",
            "                                                                 \n",
            " batch_normalization_1 (Batc  (None, 20, 20, 64)       256       \n",
            " hNormalization)                                                 \n",
            "                                                                 \n",
            " max_pooling2d_1 (MaxPooling  (None, 10, 10, 64)       0         \n",
            " 2D)                                                             \n",
            "                                                                 \n",
            " dropout_1 (Dropout)         (None, 10, 10, 64)        0         \n",
            "                                                                 \n",
            " conv2d_3 (Conv2D)           (None, 8, 8, 128)         73856     \n",
            "                                                                 \n",
            " batch_normalization_2 (Batc  (None, 8, 8, 128)        512       \n",
            " hNormalization)                                                 \n",
            "                                                                 \n",
            " max_pooling2d_2 (MaxPooling  (None, 4, 4, 128)        0         \n",
            " 2D)                                                             \n",
            "                                                                 \n",
            " dropout_2 (Dropout)         (None, 4, 4, 128)         0         \n",
            "                                                                 \n",
            "=================================================================\n",
            "Total params: 102,816\n",
            "Trainable params: 102,368\n",
            "Non-trainable params: 448\n",
            "_________________________________________________________________\n"
          ]
        }
      ]
    },
    {
      "cell_type": "code",
      "source": [
        "model.add(tf.keras.layers.Conv2D(filters = 512, kernel_size = 3, activation = 'relu', input_shape = [48,48,1]))\n",
        "model.add(tf.keras.layers.BatchNormalization())\n",
        "model.add(tf.keras.layers.MaxPool2D(pool_size = 2, strides = 2))\n",
        "model.add(tf.keras.layers.Dropout(0.25))"
      ],
      "metadata": {
        "id": "s6EuXem9uFlc"
      },
      "execution_count": null,
      "outputs": []
    },
    {
      "cell_type": "code",
      "source": [
        "model.summary()"
      ],
      "metadata": {
        "id": "PNVMmSqloaKh",
        "colab": {
          "base_uri": "https://localhost:8080/"
        },
        "outputId": "0e08814c-078d-49ab-991b-5040b391e73b"
      },
      "execution_count": null,
      "outputs": [
        {
          "output_type": "stream",
          "name": "stdout",
          "text": [
            "Model: \"sequential\"\n",
            "_________________________________________________________________\n",
            " Layer (type)                Output Shape              Param #   \n",
            "=================================================================\n",
            " conv2d (Conv2D)             (None, 46, 46, 32)        320       \n",
            "                                                                 \n",
            " conv2d_1 (Conv2D)           (None, 44, 44, 32)        9248      \n",
            "                                                                 \n",
            " batch_normalization (BatchN  (None, 44, 44, 32)       128       \n",
            " ormalization)                                                   \n",
            "                                                                 \n",
            " max_pooling2d (MaxPooling2D  (None, 22, 22, 32)       0         \n",
            " )                                                               \n",
            "                                                                 \n",
            " dropout (Dropout)           (None, 22, 22, 32)        0         \n",
            "                                                                 \n",
            " conv2d_2 (Conv2D)           (None, 20, 20, 64)        18496     \n",
            "                                                                 \n",
            " batch_normalization_1 (Batc  (None, 20, 20, 64)       256       \n",
            " hNormalization)                                                 \n",
            "                                                                 \n",
            " max_pooling2d_1 (MaxPooling  (None, 10, 10, 64)       0         \n",
            " 2D)                                                             \n",
            "                                                                 \n",
            " dropout_1 (Dropout)         (None, 10, 10, 64)        0         \n",
            "                                                                 \n",
            " conv2d_3 (Conv2D)           (None, 8, 8, 128)         73856     \n",
            "                                                                 \n",
            " batch_normalization_2 (Batc  (None, 8, 8, 128)        512       \n",
            " hNormalization)                                                 \n",
            "                                                                 \n",
            " max_pooling2d_2 (MaxPooling  (None, 4, 4, 128)        0         \n",
            " 2D)                                                             \n",
            "                                                                 \n",
            " dropout_2 (Dropout)         (None, 4, 4, 128)         0         \n",
            "                                                                 \n",
            " conv2d_4 (Conv2D)           (None, 2, 2, 512)         590336    \n",
            "                                                                 \n",
            " batch_normalization_3 (Batc  (None, 2, 2, 512)        2048      \n",
            " hNormalization)                                                 \n",
            "                                                                 \n",
            " max_pooling2d_3 (MaxPooling  (None, 1, 1, 512)        0         \n",
            " 2D)                                                             \n",
            "                                                                 \n",
            " dropout_3 (Dropout)         (None, 1, 1, 512)         0         \n",
            "                                                                 \n",
            "=================================================================\n",
            "Total params: 695,200\n",
            "Trainable params: 693,728\n",
            "Non-trainable params: 1,472\n",
            "_________________________________________________________________\n"
          ]
        }
      ]
    },
    {
      "cell_type": "code",
      "source": [
        "model.add(tf.keras.layers.Flatten())"
      ],
      "metadata": {
        "id": "sAnn6jH-uG0a"
      },
      "execution_count": null,
      "outputs": []
    },
    {
      "cell_type": "code",
      "source": [
        "model.add(tf.keras.layers.Dense(units = 7, activation = 'softmax'))"
      ],
      "metadata": {
        "id": "_8-3mpvLuNs0"
      },
      "execution_count": null,
      "outputs": []
    },
    {
      "cell_type": "code",
      "source": [
        "model.summary()"
      ],
      "metadata": {
        "id": "k81hLrnuuPCl",
        "colab": {
          "base_uri": "https://localhost:8080/"
        },
        "outputId": "a468cec0-7700-4f32-b74a-de371b882793"
      },
      "execution_count": null,
      "outputs": [
        {
          "output_type": "stream",
          "name": "stdout",
          "text": [
            "Model: \"sequential\"\n",
            "_________________________________________________________________\n",
            " Layer (type)                Output Shape              Param #   \n",
            "=================================================================\n",
            " conv2d (Conv2D)             (None, 46, 46, 32)        320       \n",
            "                                                                 \n",
            " conv2d_1 (Conv2D)           (None, 44, 44, 32)        9248      \n",
            "                                                                 \n",
            " batch_normalization (BatchN  (None, 44, 44, 32)       128       \n",
            " ormalization)                                                   \n",
            "                                                                 \n",
            " max_pooling2d (MaxPooling2D  (None, 22, 22, 32)       0         \n",
            " )                                                               \n",
            "                                                                 \n",
            " dropout (Dropout)           (None, 22, 22, 32)        0         \n",
            "                                                                 \n",
            " conv2d_2 (Conv2D)           (None, 20, 20, 64)        18496     \n",
            "                                                                 \n",
            " batch_normalization_1 (Batc  (None, 20, 20, 64)       256       \n",
            " hNormalization)                                                 \n",
            "                                                                 \n",
            " max_pooling2d_1 (MaxPooling  (None, 10, 10, 64)       0         \n",
            " 2D)                                                             \n",
            "                                                                 \n",
            " dropout_1 (Dropout)         (None, 10, 10, 64)        0         \n",
            "                                                                 \n",
            " conv2d_3 (Conv2D)           (None, 8, 8, 128)         73856     \n",
            "                                                                 \n",
            " batch_normalization_2 (Batc  (None, 8, 8, 128)        512       \n",
            " hNormalization)                                                 \n",
            "                                                                 \n",
            " max_pooling2d_2 (MaxPooling  (None, 4, 4, 128)        0         \n",
            " 2D)                                                             \n",
            "                                                                 \n",
            " dropout_2 (Dropout)         (None, 4, 4, 128)         0         \n",
            "                                                                 \n",
            " conv2d_4 (Conv2D)           (None, 2, 2, 512)         590336    \n",
            "                                                                 \n",
            " batch_normalization_3 (Batc  (None, 2, 2, 512)        2048      \n",
            " hNormalization)                                                 \n",
            "                                                                 \n",
            " max_pooling2d_3 (MaxPooling  (None, 1, 1, 512)        0         \n",
            " 2D)                                                             \n",
            "                                                                 \n",
            " dropout_3 (Dropout)         (None, 1, 1, 512)         0         \n",
            "                                                                 \n",
            " flatten (Flatten)           (None, 512)               0         \n",
            "                                                                 \n",
            " dense (Dense)               (None, 7)                 3591      \n",
            "                                                                 \n",
            "=================================================================\n",
            "Total params: 698,791\n",
            "Trainable params: 697,319\n",
            "Non-trainable params: 1,472\n",
            "_________________________________________________________________\n"
          ]
        }
      ]
    },
    {
      "cell_type": "code",
      "source": [
        "model.compile(optimizer = 'adam', loss = 'categorical_crossentropy', metrics = ['accuracy'])\n",
        "history = model.fit(x = training_images, validation_data = testing_images, epochs = 50)"
      ],
      "metadata": {
        "colab": {
          "base_uri": "https://localhost:8080/"
        },
        "id": "3wD4AKZmuQtr",
        "outputId": "0c2630cf-4862-4a3d-d18b-8abe90a118cd"
      },
      "execution_count": null,
      "outputs": [
        {
          "metadata": {
            "tags": null
          },
          "name": "stderr",
          "output_type": "stream",
          "text": [
            "/usr/local/lib/python3.7/dist-packages/keras_preprocessing/image/image_data_generator.py:720: UserWarning: This ImageDataGenerator specifies `featurewise_center`, but it hasn't been fit on any training data. Fit it first by calling `.fit(numpy_data)`.\n",
            "  warnings.warn('This ImageDataGenerator specifies '\n",
            "/usr/local/lib/python3.7/dist-packages/keras_preprocessing/image/image_data_generator.py:728: UserWarning: This ImageDataGenerator specifies `featurewise_std_normalization`, but it hasn't been fit on any training data. Fit it first by calling `.fit(numpy_data)`.\n",
            "  warnings.warn('This ImageDataGenerator specifies '\n"
          ]
        },
        {
          "output_type": "stream",
          "name": "stdout",
          "text": [
            "Epoch 1/50\n",
            "449/449 [==============================] - 5933s 13s/step - loss: 2.1244 - accuracy: 0.2199 - val_loss: 1.9286 - val_accuracy: 0.2070\n",
            "Epoch 2/50\n",
            "449/449 [==============================] - 300s 667ms/step - loss: 1.8891 - accuracy: 0.2475 - val_loss: 1.9488 - val_accuracy: 0.2237\n",
            "Epoch 3/50\n",
            "449/449 [==============================] - 298s 663ms/step - loss: 1.7837 - accuracy: 0.2843 - val_loss: 1.8583 - val_accuracy: 0.2491\n",
            "Epoch 4/50\n",
            "449/449 [==============================] - 297s 661ms/step - loss: 1.6939 - accuracy: 0.3274 - val_loss: 1.7461 - val_accuracy: 0.3135\n",
            "Epoch 5/50\n",
            "449/449 [==============================] - 297s 662ms/step - loss: 1.6254 - accuracy: 0.3631 - val_loss: 1.6089 - val_accuracy: 0.3658\n",
            "Epoch 6/50\n",
            "449/449 [==============================] - 297s 661ms/step - loss: 1.5574 - accuracy: 0.3959 - val_loss: 1.5378 - val_accuracy: 0.4094\n",
            "Epoch 7/50\n",
            "449/449 [==============================] - 297s 662ms/step - loss: 1.5169 - accuracy: 0.4088 - val_loss: 1.4774 - val_accuracy: 0.4295\n",
            "Epoch 8/50\n",
            "449/449 [==============================] - 297s 661ms/step - loss: 1.4836 - accuracy: 0.4315 - val_loss: 1.4714 - val_accuracy: 0.4383\n",
            "Epoch 9/50\n",
            "449/449 [==============================] - 298s 663ms/step - loss: 1.4608 - accuracy: 0.4382 - val_loss: 1.4661 - val_accuracy: 0.4191\n",
            "Epoch 10/50\n",
            "449/449 [==============================] - 298s 664ms/step - loss: 1.4356 - accuracy: 0.4477 - val_loss: 1.3599 - val_accuracy: 0.4777\n",
            "Epoch 11/50\n",
            "449/449 [==============================] - 298s 664ms/step - loss: 1.4082 - accuracy: 0.4641 - val_loss: 1.3806 - val_accuracy: 0.4738\n",
            "Epoch 12/50\n",
            "449/449 [==============================] - 298s 664ms/step - loss: 1.3969 - accuracy: 0.4672 - val_loss: 1.3661 - val_accuracy: 0.4666\n",
            "Epoch 13/50\n",
            "449/449 [==============================] - 300s 668ms/step - loss: 1.3828 - accuracy: 0.4716 - val_loss: 1.3704 - val_accuracy: 0.4868\n",
            "Epoch 14/50\n",
            "449/449 [==============================] - 297s 661ms/step - loss: 1.3688 - accuracy: 0.4756 - val_loss: 1.3142 - val_accuracy: 0.4940\n",
            "Epoch 15/50\n",
            "449/449 [==============================] - 297s 662ms/step - loss: 1.3557 - accuracy: 0.4821 - val_loss: 1.3282 - val_accuracy: 0.4901\n",
            "Epoch 16/50\n",
            "449/449 [==============================] - 298s 663ms/step - loss: 1.3485 - accuracy: 0.4826 - val_loss: 1.2977 - val_accuracy: 0.5035\n",
            "Epoch 17/50\n",
            "449/449 [==============================] - 299s 665ms/step - loss: 1.3421 - accuracy: 0.4887 - val_loss: 1.3068 - val_accuracy: 0.5060\n",
            "Epoch 18/50\n",
            "449/449 [==============================] - 299s 665ms/step - loss: 1.3268 - accuracy: 0.4929 - val_loss: 1.2853 - val_accuracy: 0.5127\n",
            "Epoch 19/50\n",
            "449/449 [==============================] - 298s 664ms/step - loss: 1.3211 - accuracy: 0.4953 - val_loss: 1.2637 - val_accuracy: 0.5208\n",
            "Epoch 20/50\n",
            "449/449 [==============================] - 301s 669ms/step - loss: 1.3146 - accuracy: 0.4998 - val_loss: 1.2688 - val_accuracy: 0.5139\n",
            "Epoch 21/50\n",
            "449/449 [==============================] - 299s 665ms/step - loss: 1.3139 - accuracy: 0.4999 - val_loss: 1.2537 - val_accuracy: 0.5255\n",
            "Epoch 22/50\n",
            "449/449 [==============================] - 299s 665ms/step - loss: 1.3040 - accuracy: 0.5034 - val_loss: 1.2968 - val_accuracy: 0.5125\n",
            "Epoch 23/50\n",
            "449/449 [==============================] - 307s 683ms/step - loss: 1.2935 - accuracy: 0.5073 - val_loss: 1.2388 - val_accuracy: 0.5287\n",
            "Epoch 24/50\n",
            "449/449 [==============================] - 305s 679ms/step - loss: 1.2955 - accuracy: 0.5082 - val_loss: 1.2339 - val_accuracy: 0.5339\n",
            "Epoch 25/50\n",
            "449/449 [==============================] - 306s 681ms/step - loss: 1.2883 - accuracy: 0.5090 - val_loss: 1.2011 - val_accuracy: 0.5483\n",
            "Epoch 26/50\n",
            "449/449 [==============================] - 308s 685ms/step - loss: 1.2828 - accuracy: 0.5138 - val_loss: 1.2256 - val_accuracy: 0.5379\n",
            "Epoch 27/50\n",
            "449/449 [==============================] - 306s 682ms/step - loss: 1.2834 - accuracy: 0.5149 - val_loss: 1.2147 - val_accuracy: 0.5326\n",
            "Epoch 28/50\n",
            "449/449 [==============================] - 306s 681ms/step - loss: 1.2668 - accuracy: 0.5162 - val_loss: 1.2497 - val_accuracy: 0.5265\n",
            "Epoch 29/50\n",
            "449/449 [==============================] - 307s 683ms/step - loss: 1.2651 - accuracy: 0.5175 - val_loss: 1.2903 - val_accuracy: 0.5143\n",
            "Epoch 30/50\n",
            "449/449 [==============================] - 304s 677ms/step - loss: 1.2695 - accuracy: 0.5180 - val_loss: 1.1870 - val_accuracy: 0.5489\n",
            "Epoch 31/50\n",
            "449/449 [==============================] - 306s 680ms/step - loss: 1.2629 - accuracy: 0.5176 - val_loss: 1.2193 - val_accuracy: 0.5281\n",
            "Epoch 32/50\n",
            "449/449 [==============================] - 310s 690ms/step - loss: 1.2656 - accuracy: 0.5149 - val_loss: 1.1986 - val_accuracy: 0.5460\n",
            "Epoch 33/50\n",
            "449/449 [==============================] - 307s 683ms/step - loss: 1.2541 - accuracy: 0.5206 - val_loss: 1.2036 - val_accuracy: 0.5456\n",
            "Epoch 34/50\n",
            "449/449 [==============================] - 307s 684ms/step - loss: 1.2578 - accuracy: 0.5177 - val_loss: 1.2575 - val_accuracy: 0.5235\n",
            "Epoch 35/50\n",
            "449/449 [==============================] - 308s 687ms/step - loss: 1.2504 - accuracy: 0.5225 - val_loss: 1.1765 - val_accuracy: 0.5574\n",
            "Epoch 36/50\n",
            "449/449 [==============================] - 318s 708ms/step - loss: 1.2489 - accuracy: 0.5221 - val_loss: 1.1787 - val_accuracy: 0.5584\n",
            "Epoch 37/50\n",
            "449/449 [==============================] - 309s 688ms/step - loss: 1.2441 - accuracy: 0.5252 - val_loss: 1.1783 - val_accuracy: 0.5575\n",
            "Epoch 38/50\n",
            "449/449 [==============================] - 308s 685ms/step - loss: 1.2410 - accuracy: 0.5274 - val_loss: 1.2418 - val_accuracy: 0.5241\n",
            "Epoch 39/50\n",
            "449/449 [==============================] - 305s 680ms/step - loss: 1.2398 - accuracy: 0.5252 - val_loss: 1.1904 - val_accuracy: 0.5456\n",
            "Epoch 40/50\n",
            "449/449 [==============================] - 310s 690ms/step - loss: 1.2361 - accuracy: 0.5292 - val_loss: 1.1730 - val_accuracy: 0.5532\n",
            "Epoch 41/50\n",
            "449/449 [==============================] - 307s 683ms/step - loss: 1.2347 - accuracy: 0.5307 - val_loss: 1.1817 - val_accuracy: 0.5444\n",
            "Epoch 42/50\n",
            "449/449 [==============================] - 307s 683ms/step - loss: 1.2260 - accuracy: 0.5327 - val_loss: 1.1629 - val_accuracy: 0.5584\n",
            "Epoch 43/50\n",
            "449/449 [==============================] - 306s 682ms/step - loss: 1.2278 - accuracy: 0.5349 - val_loss: 1.2243 - val_accuracy: 0.5348\n",
            "Epoch 44/50\n",
            "449/449 [==============================] - 306s 680ms/step - loss: 1.2328 - accuracy: 0.5330 - val_loss: 1.1697 - val_accuracy: 0.5552\n",
            "Epoch 45/50\n",
            "449/449 [==============================] - 305s 679ms/step - loss: 1.2246 - accuracy: 0.5346 - val_loss: 1.2039 - val_accuracy: 0.5454\n",
            "Epoch 46/50\n",
            "449/449 [==============================] - 305s 679ms/step - loss: 1.2228 - accuracy: 0.5358 - val_loss: 1.2026 - val_accuracy: 0.5419\n",
            "Epoch 47/50\n",
            "449/449 [==============================] - 308s 685ms/step - loss: 1.2249 - accuracy: 0.5374 - val_loss: 1.1468 - val_accuracy: 0.5606\n",
            "Epoch 48/50\n",
            "449/449 [==============================] - 303s 675ms/step - loss: 1.2206 - accuracy: 0.5375 - val_loss: 1.1669 - val_accuracy: 0.5612\n",
            "Epoch 49/50\n",
            "449/449 [==============================] - 305s 680ms/step - loss: 1.2189 - accuracy: 0.5342 - val_loss: 1.1618 - val_accuracy: 0.5528\n",
            "Epoch 50/50\n",
            "449/449 [==============================] - 302s 673ms/step - loss: 1.2170 - accuracy: 0.5359 - val_loss: 1.1774 - val_accuracy: 0.5504\n"
          ]
        }
      ]
    },
    {
      "cell_type": "code",
      "source": [
        "plt.figure(figsize = (15,5))\n",
        "plt.plot(history.history['accuracy'], label='Accuracy')\n",
        "plt.plot(history.history['val_accuracy'], label='Validation Accuracy')\n",
        "plt.title('CNN Metrices (Accuracy)')\n",
        "plt.ylabel('accuracy')\n",
        "plt.xlabel('Epoch')\n",
        "plt.legend(loc=\"upper left\")\n",
        "plt.show()"
      ],
      "metadata": {
        "id": "Jh60zSg0o-1f",
        "colab": {
          "base_uri": "https://localhost:8080/",
          "height": 249
        },
        "outputId": "7b96bc77-44fd-4a3d-cfb6-44c3819ede1e"
      },
      "execution_count": 19,
      "outputs": [
        {
          "output_type": "error",
          "ename": "NameError",
          "evalue": "ignored",
          "traceback": [
            "\u001b[0;31m---------------------------------------------------------------------------\u001b[0m",
            "\u001b[0;31mNameError\u001b[0m                                 Traceback (most recent call last)",
            "\u001b[0;32m<ipython-input-19-5afa737ba1c8>\u001b[0m in \u001b[0;36m<module>\u001b[0;34m()\u001b[0m\n\u001b[1;32m      1\u001b[0m \u001b[0mplt\u001b[0m\u001b[0;34m.\u001b[0m\u001b[0mfigure\u001b[0m\u001b[0;34m(\u001b[0m\u001b[0mfigsize\u001b[0m \u001b[0;34m=\u001b[0m \u001b[0;34m(\u001b[0m\u001b[0;36m15\u001b[0m\u001b[0;34m,\u001b[0m\u001b[0;36m5\u001b[0m\u001b[0;34m)\u001b[0m\u001b[0;34m)\u001b[0m\u001b[0;34m\u001b[0m\u001b[0;34m\u001b[0m\u001b[0m\n\u001b[0;32m----> 2\u001b[0;31m \u001b[0mplt\u001b[0m\u001b[0;34m.\u001b[0m\u001b[0mplot\u001b[0m\u001b[0;34m(\u001b[0m\u001b[0mhistory\u001b[0m\u001b[0;34m.\u001b[0m\u001b[0mhistory\u001b[0m\u001b[0;34m[\u001b[0m\u001b[0;34m'accuracy'\u001b[0m\u001b[0;34m]\u001b[0m\u001b[0;34m,\u001b[0m \u001b[0mlabel\u001b[0m\u001b[0;34m=\u001b[0m\u001b[0;34m'Accuracy'\u001b[0m\u001b[0;34m)\u001b[0m\u001b[0;34m\u001b[0m\u001b[0;34m\u001b[0m\u001b[0m\n\u001b[0m\u001b[1;32m      3\u001b[0m \u001b[0mplt\u001b[0m\u001b[0;34m.\u001b[0m\u001b[0mplot\u001b[0m\u001b[0;34m(\u001b[0m\u001b[0mhistory\u001b[0m\u001b[0;34m.\u001b[0m\u001b[0mhistory\u001b[0m\u001b[0;34m[\u001b[0m\u001b[0;34m'val_accuracy'\u001b[0m\u001b[0;34m]\u001b[0m\u001b[0;34m,\u001b[0m \u001b[0mlabel\u001b[0m\u001b[0;34m=\u001b[0m\u001b[0;34m'Validation Accuracy'\u001b[0m\u001b[0;34m)\u001b[0m\u001b[0;34m\u001b[0m\u001b[0;34m\u001b[0m\u001b[0m\n\u001b[1;32m      4\u001b[0m \u001b[0mplt\u001b[0m\u001b[0;34m.\u001b[0m\u001b[0mtitle\u001b[0m\u001b[0;34m(\u001b[0m\u001b[0;34m'CNN Metrices (Accuracy)'\u001b[0m\u001b[0;34m)\u001b[0m\u001b[0;34m\u001b[0m\u001b[0;34m\u001b[0m\u001b[0m\n\u001b[1;32m      5\u001b[0m \u001b[0mplt\u001b[0m\u001b[0;34m.\u001b[0m\u001b[0mylabel\u001b[0m\u001b[0;34m(\u001b[0m\u001b[0;34m'accuracy'\u001b[0m\u001b[0;34m)\u001b[0m\u001b[0;34m\u001b[0m\u001b[0;34m\u001b[0m\u001b[0m\n",
            "\u001b[0;31mNameError\u001b[0m: name 'history' is not defined"
          ]
        },
        {
          "output_type": "display_data",
          "data": {
            "text/plain": [
              "<Figure size 1080x360 with 0 Axes>"
            ]
          },
          "metadata": {}
        }
      ]
    },
    {
      "cell_type": "code",
      "source": [
        "plt.plot(history.history['loss'], label='Loss')\n",
        "plt.plot(history.history['val_loss'], label='Validation loss')\n",
        "plt.title('CNN Metrices(Loss)')\n",
        "plt.ylabel('accuracy')\n",
        "plt.xlabel('Epoch')\n",
        "plt.legend(loc=\"upper left\")\n",
        "plt.show()"
      ],
      "metadata": {
        "id": "O7wqxQ-TpFkh"
      },
      "execution_count": null,
      "outputs": []
    },
    {
      "cell_type": "code",
      "source": [
        "test_loss, test_acc = model.evaluate(testing_images, verbose=2)"
      ],
      "metadata": {
        "id": "V3wQ1yxA36Uu"
      },
      "execution_count": null,
      "outputs": []
    }
  ]
}